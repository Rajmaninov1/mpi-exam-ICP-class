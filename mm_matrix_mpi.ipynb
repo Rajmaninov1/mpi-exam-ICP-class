{
  "nbformat": 4,
  "nbformat_minor": 0,
  "metadata": {
    "colab": {
      "provenance": []
    },
    "kernelspec": {
      "name": "python3",
      "display_name": "Python 3"
    },
    "language_info": {
      "name": "python"
    },
    "gpuClass": "standard"
  },
  "cells": [
    {
      "cell_type": "code",
      "execution_count": null,
      "metadata": {
        "colab": {
          "base_uri": "https://localhost:8080/"
        },
        "id": "e9kfu4vUHy-2",
        "outputId": "4de2c072-19f0-4b0a-cc2d-9716963a5235"
      },
      "outputs": [
        {
          "output_type": "stream",
          "name": "stdout",
          "text": [
            "Overwriting mm_matrix_multiplication.c\n"
          ]
        }
      ],
      "source": [
        "%%writefile mm_matrix_multiplication.c\n",
        "\n",
        "#include \"mpi.h\"\n",
        "#include <stdio.h>\n",
        "#include <stdlib.h>\n",
        "\n",
        "#define MATSIZE 550\n",
        "#define NRA MATSIZE            /* number of rows in matrix A */\n",
        "#define NCA MATSIZE            /* number of columns in matrix A */\n",
        "#define NCB MATSIZE            /* number of columns in matrix B */\n",
        "#define MASTER 0               /* taskid of first task */\n",
        "#define FROM_MASTER 1          /* setting a message type */\n",
        "#define FROM_WORKER 2          /* setting a message type */\n",
        "\n",
        "int main (int argc, char *argv[])\n",
        "{\n",
        "int\tnumtasks,              /* number of tasks in partition */\n",
        "\ttaskid,                /* a task identifier */\n",
        "\tnumworkers,            /* number of worker tasks */\n",
        "\tsource,                /* task id of message source */\n",
        "\tdest,                  /* task id of message destination */\n",
        "\tmtype,                 /* message type */\n",
        "\trows,                  /* rows of matrix A sent to each worker */\n",
        "\taverow, extra, offset, /* used to determine rows sent to each worker */\n",
        "\ti, j, k, rc;           /* misc */\n",
        "double a[NRA][NCA],           /* matrix A to be multiplied */\n",
        "\tb[NCA][NCB],           /* matrix B to be multiplied */\n",
        "\tc[NRA][NCB];           /* result matrix C */\n",
        "MPI_Status status;\n",
        "\n",
        "MPI_Init(&argc,&argv);\n",
        "MPI_Comm_rank(MPI_COMM_WORLD,&taskid);\n",
        "MPI_Comm_size(MPI_COMM_WORLD,&numtasks);\n",
        "if (numtasks < 2 ) {\n",
        "  printf(\"Need at least two MPI tasks. Quitting...\\n\");\n",
        "  MPI_Abort(MPI_COMM_WORLD, rc);\n",
        "  exit(1);\n",
        "  }\n",
        "numworkers = numtasks-1;\n",
        "\n",
        "\n",
        "/**************************** master task ************************************/\n",
        "   if (taskid == MASTER)\n",
        "   {\n",
        "      printf(\"mpi_mm has started with %d tasks.\\n\",numtasks);\n",
        "      // printf(\"Initializing arrays...\\n\");\n",
        "      for (i=0; i<NRA; i++)\n",
        "         for (j=0; j<NCA; j++)\n",
        "            a[i][j]= i+j;\n",
        "      for (i=0; i<NCA; i++)\n",
        "         for (j=0; j<NCB; j++)\n",
        "            b[i][j]= i*j;\n",
        "\n",
        "      /* Measure start time */\n",
        "      double start = MPI_Wtime();\n",
        "\n",
        "      /* Send matrix data to the worker tasks */\n",
        "      averow = NRA/numworkers;\n",
        "      extra = NRA%numworkers;\n",
        "      offset = 0;\n",
        "      mtype = FROM_MASTER;\n",
        "      for (dest=1; dest<=numworkers; dest++)\n",
        "      {\n",
        "         rows = (dest <= extra) ? averow+1 : averow;   \t\n",
        "         // printf(\"Sending %d rows to task %d offset=%d\\n\",rows,dest,offset);\n",
        "         MPI_Send(&offset, 1, MPI_LONG, dest, mtype, MPI_COMM_WORLD);\n",
        "         MPI_Send(&rows, 1, MPI_LONG, dest, mtype, MPI_COMM_WORLD);\n",
        "         MPI_Send(&a[offset][0], rows*NCA, MPI_DOUBLE, dest, mtype,\n",
        "                   MPI_COMM_WORLD);\n",
        "         MPI_Send(&b, NCA*NCB, MPI_DOUBLE, dest, mtype, MPI_COMM_WORLD);\n",
        "         offset = offset + rows;\n",
        "      }\n",
        "\n",
        "      /* Receive results from worker tasks */\n",
        "      mtype = FROM_WORKER;\n",
        "      for (i=1; i<=numworkers; i++)\n",
        "      {\n",
        "         source = i;\n",
        "         MPI_Recv(&offset, 1, MPI_LONG, source, mtype, MPI_COMM_WORLD, &status);\n",
        "         MPI_Recv(&rows, 1, MPI_LONG, source, mtype, MPI_COMM_WORLD, &status);\n",
        "         MPI_Recv(&c[offset][0], rows*NCB, MPI_DOUBLE, source, mtype, \n",
        "                  MPI_COMM_WORLD, &status);\n",
        "         // printf(\"Received results from task %d\\n\",source);\n",
        "      }\n",
        "\n",
        "      /* Print results */\n",
        "      /*\n",
        "      printf(\"******************************************************\\n\");\n",
        "      printf(\"Result Matrix:\\n\");\n",
        "      for (i=0; i<NRA; i++)\n",
        "      {\n",
        "         printf(\"\\n\"); \n",
        "         for (j=0; j<NCB; j++) \n",
        "            printf(\"%6.2f   \", c[i][j]);\n",
        "      }\n",
        "      printf(\"\\n******************************************************\\n\");\n",
        "      */\n",
        "\n",
        "      /* Measure finish time */\n",
        "      double finish = MPI_Wtime();\n",
        "      printf(\"Done in %f seconds.\\n\", finish - start);\n",
        "   }\n",
        "\n",
        "\n",
        "/**************************** worker task ************************************/\n",
        "   if (taskid > MASTER)\n",
        "   {\n",
        "      mtype = FROM_MASTER;\n",
        "      MPI_Recv(&offset, 1, MPI_LONG, MASTER, mtype, MPI_COMM_WORLD, &status);\n",
        "      MPI_Recv(&rows, 1, MPI_LONG, MASTER, mtype, MPI_COMM_WORLD, &status);\n",
        "      MPI_Recv(&a, rows*NCA, MPI_DOUBLE, MASTER, mtype, MPI_COMM_WORLD, &status);\n",
        "      MPI_Recv(&b, NCA*NCB, MPI_DOUBLE, MASTER, mtype, MPI_COMM_WORLD, &status);\n",
        "\n",
        "      for (k=0; k<NCB; k++)\n",
        "         for (i=0; i<rows; i++)\n",
        "         {\n",
        "            c[i][k] = 0.0;\n",
        "            for (j=0; j<NCA; j++)\n",
        "               c[i][k] = c[i][k] + a[i][j] * b[j][k];\n",
        "         }\n",
        "      mtype = FROM_WORKER;\n",
        "      MPI_Send(&offset, 1, MPI_LONG, MASTER, mtype, MPI_COMM_WORLD);\n",
        "      MPI_Send(&rows, 1, MPI_LONG, MASTER, mtype, MPI_COMM_WORLD);\n",
        "      MPI_Send(&c, rows*NCB, MPI_DOUBLE, MASTER, mtype, MPI_COMM_WORLD);\n",
        "   }\n",
        "   MPI_Finalize();\n",
        "}"
      ]
    },
    {
      "cell_type": "code",
      "source": [
        "!mpicc mm_matrix_multiplication.c"
      ],
      "metadata": {
        "id": "MVDBwg6yRvS9"
      },
      "execution_count": null,
      "outputs": []
    },
    {
      "cell_type": "code",
      "source": [
        "!mpirun --allow-run-as-root -np 4 ./a.out"
      ],
      "metadata": {
        "colab": {
          "base_uri": "https://localhost:8080/"
        },
        "id": "ke1KPIsKSKkf",
        "outputId": "ad2882c0-053a-47f1-ab3d-7edfc98b71e4"
      },
      "execution_count": null,
      "outputs": [
        {
          "output_type": "stream",
          "name": "stdout",
          "text": [
            "mpi_mm has started with 4 tasks.\n",
            "Done in 0.560017 seconds.\n"
          ]
        }
      ]
    },
    {
      "cell_type": "code",
      "source": [
        "!mpirun --allow-run-as-root -np 2 ./a.out"
      ],
      "metadata": {
        "id": "Dd8BVumWL5xA",
        "colab": {
          "base_uri": "https://localhost:8080/"
        },
        "outputId": "7e73010a-20b3-4394-acd2-f7781b281bd6"
      },
      "execution_count": null,
      "outputs": [
        {
          "output_type": "stream",
          "name": "stdout",
          "text": [
            "mpi_mm has started with 2 tasks.\n",
            "Done in 0.715664 seconds.\n"
          ]
        }
      ]
    },
    {
      "cell_type": "code",
      "source": [],
      "metadata": {
        "id": "X9wsYQsxStYe"
      },
      "execution_count": null,
      "outputs": []
    }
  ]
}