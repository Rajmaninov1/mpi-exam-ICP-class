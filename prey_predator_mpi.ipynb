{
  "nbformat": 4,
  "nbformat_minor": 0,
  "metadata": {
    "colab": {
      "provenance": []
    },
    "kernelspec": {
      "name": "python3",
      "display_name": "Python 3"
    },
    "language_info": {
      "name": "python"
    },
    "gpuClass": "standard"
  },
  "cells": [
    {
      "cell_type": "code",
      "source": [
        "import os\n",
        "\n",
        "directory = \"headers\"\n",
        "\n",
        "\n",
        "if not os.path.exists(directory):\n",
        "    os.makedirs(directory)"
      ],
      "metadata": {
        "id": "cLbdLX1reTy0"
      },
      "execution_count": null,
      "outputs": []
    },
    {
      "cell_type": "code",
      "execution_count": null,
      "metadata": {
        "colab": {
          "base_uri": "https://localhost:8080/"
        },
        "id": "e9kfu4vUHy-2",
        "outputId": "a9684dfe-82a8-41a3-bc46-a745c3be4c56"
      },
      "outputs": [
        {
          "output_type": "stream",
          "name": "stdout",
          "text": [
            "Overwriting ./headers/config_t.h\n"
          ]
        }
      ],
      "source": [
        "%%writefile ./headers/config_t.h\n",
        "\n",
        "/*Struct with the configuration passed by the file*/\n",
        "#ifndef CONFIG_H\n",
        "\t#define CONFIG_H\n",
        "\ttypedef struct config_t {\n",
        "\t\tunsigned short int GEN_PROC_CONEJOS;\n",
        "\t\tunsigned short int GEN_PROC_ZORROS;\n",
        "\t\tunsigned short int GEN_COMIDA_ZORROS;\n",
        "\t\tunsigned int N_GEN;\n",
        "\t\tunsigned int L;\n",
        "\t\tunsigned int C;\n",
        "\t\tunsigned int GEN;\n",
        "\t} config_t;\n",
        "#endif"
      ]
    },
    {
      "cell_type": "code",
      "source": [
        "%%writefile ./headers/coord_t.h\n",
        "\n",
        "/*A simple coordinate struct*/\n",
        "\n",
        "#ifndef COORD_H\n",
        "\t#define COORD_H\n",
        "\ttypedef struct coord_t {\n",
        "\t\tint x;\n",
        "\t\tint y;\n",
        "\t} coord_t;\n",
        "#endif"
      ],
      "metadata": {
        "colab": {
          "base_uri": "https://localhost:8080/"
        },
        "id": "kZLXqGBIcumO",
        "outputId": "cd3fdf63-bc3d-4535-8903-6e8126f4aad4"
      },
      "execution_count": null,
      "outputs": [
        {
          "output_type": "stream",
          "name": "stdout",
          "text": [
            "Overwriting ./headers/coord_t.h\n"
          ]
        }
      ]
    },
    {
      "cell_type": "code",
      "source": [
        "%%writefile ./headers/fileHandler.h\n",
        "\n",
        "/*Functions to handle interactions with files*/\n",
        "\n",
        "#ifndef FILEHANDLER_H\n",
        "\t#define FILEHANDLER_H\n",
        "\n",
        "\t#include \"config_t.h\"\n",
        "\t#include \"coord_t.h\"\n",
        "\t#include \"types_t.h\"\n",
        "\t#include <stdlib.h>\n",
        "\t#include <stdio.h>\n",
        "\t#include <errno.h>\n",
        "\t#include <string.h>\n",
        "\n",
        "\tint readFile (char *filename, config_t *c, object_t ***eco);\n",
        "#endif"
      ],
      "metadata": {
        "colab": {
          "base_uri": "https://localhost:8080/"
        },
        "id": "qIH1JP0-dCtw",
        "outputId": "96c8fb57-c1a7-4d65-8cea-f272b551b195"
      },
      "execution_count": null,
      "outputs": [
        {
          "output_type": "stream",
          "name": "stdout",
          "text": [
            "Overwriting ./headers/fileHandler.h\n"
          ]
        }
      ]
    },
    {
      "cell_type": "code",
      "source": [
        "%%writefile ./headers/rules.h\n",
        "\n",
        "#ifndef RULES_H\n",
        "\t#define RULES_H\n",
        "\t#include \"types_t.h\"\n",
        "\t#include \"coord_t.h\"\n",
        "\t#include \"config_t.h\"\n",
        "\t#include <omp.h>\n",
        "\n",
        "    #define MIN(a, b) ((a) < (b)) ? (a) : (b)\n",
        "    #define MAX(a, b) ((a) > (b)) ? (a) : (b)\n",
        "\n",
        "\tvoid rabbit_rules (object_t **eco, config_t conf, coord_t p);\n",
        "\tvoid fox_rules (object_t **eco, config_t conf, coord_t p);\n",
        "\tvoid conflict (object_t **eco, config_t conf, int type);\n",
        "\n",
        "\tanimal_t choose_rabbit(object_t object);\n",
        "\tanimal_t choose_fox(object_t object);\n",
        "\n",
        "#endif"
      ],
      "metadata": {
        "colab": {
          "base_uri": "https://localhost:8080/"
        },
        "id": "3N8MN5KhdKWt",
        "outputId": "0149ab07-d0d2-4dce-b1c5-891b172098a2"
      },
      "execution_count": null,
      "outputs": [
        {
          "output_type": "stream",
          "name": "stdout",
          "text": [
            "Overwriting ./headers/rules.h\n"
          ]
        }
      ]
    },
    {
      "cell_type": "code",
      "source": [
        "%%writefile ./headers/types_t.h\n",
        "\n",
        "#ifndef TYPES_H\n",
        "\t#define TYPES_H\n",
        "\t\n",
        "\t#include <stdlib.h>\n",
        "\t#include <stdio.h>\n",
        "\t#include <errno.h>\n",
        "\t#include <string.h>\n",
        "\t#include <omp.h>\n",
        "\t#include \"coord_t.h\"\n",
        "\t#include \"config_t.h\"\n",
        "\t\n",
        "\t#define EMPTY 0\n",
        "\t#define RABBIT 1\n",
        "\t#define FOX 2\n",
        "\t#define ROCK 3\n",
        "\n",
        "\t#define UP 0\n",
        "\t#define RIGHT 1\n",
        "\t#define DOWN 2\n",
        "\t#define LEFT 3\n",
        "\t#define CENTER 4\n",
        "\n",
        "\t/* Macros for deferencing pointers*/\n",
        "\t#define RABBIT_P(A) ((rabbit_t*)A)\n",
        "\t#define FOX_P(A) ((fox_t*)A)\n",
        "\t\n",
        "\t#define _RED     \"\\033[1m\\033[31m\"\n",
        "\t#define _GREEN   \"\\033[1m\\033[32m\"\n",
        "\t#define _YELLOW  \"\\033[1m\\033[33m\"\n",
        "\t#define _BLUE    \"\\033[1m\\033[34m\"\n",
        "\t#define _MAGENTA \"\\033[1m\\033[35m\"\n",
        "\t#define _CYAN    \"\\033[1m\\033[36m\"\n",
        "\t#define _RESET   \"\\x1b[0m\"\n",
        "\n",
        "\t\n",
        "\t#define NEWANIMAL(TYPE, GEN_NASCIMENTO, GEN_COMIDA) (animal_t){ \\\n",
        "\t\t\t\t\t  .type = TYPE, \\\n",
        "\t\t\t\t\t  .gen_nascimento = GEN_NASCIMENTO, \\\n",
        "\t\t\t\t\t  .gen_comida = GEN_COMIDA}\n",
        "\n",
        "\ttypedef struct animal_t {\n",
        "\t\tunsigned short int type;\n",
        "\t\tunsigned int gen_nascimento;\n",
        "\t\tunsigned int gen_comida;\n",
        "\t} animal_t;\n",
        "\n",
        "\ttypedef struct object_t {\n",
        "\t\tanimal_t animal;\n",
        "\t\tanimal_t *candidates;\n",
        "\t} object_t;\n",
        "\n",
        "\tobject_t** allocateMatrix (int X, int Y);\n",
        "\tvoid printMatrix (object_t **eco, int X, int Y, config_t conf);\n",
        "\tint insert_into_matrix (object_t **matrix, char* object_type, coord_t p);\n",
        "\tvoid deepcopy (object_t** A, object_t** B, int L, int C);\n",
        "\n",
        "\t/*These functions transforms the object into a new_'entity'*/\n",
        "\tvoid clear_position (object_t *object);\n",
        "\n",
        "#endif"
      ],
      "metadata": {
        "colab": {
          "base_uri": "https://localhost:8080/"
        },
        "id": "IHoAt3MndQB4",
        "outputId": "13897ba2-0832-4676-84e7-c081c7e319f8"
      },
      "execution_count": null,
      "outputs": [
        {
          "output_type": "stream",
          "name": "stdout",
          "text": [
            "Overwriting ./headers/types_t.h\n"
          ]
        }
      ]
    },
    {
      "cell_type": "code",
      "source": [
        "%%writefile fileHandler.c\n",
        "\n",
        "#include \"headers/fileHandler.h\"\n",
        "\n",
        "\n",
        "/*Reads the file passed by the string filename returning a configuration struct and the ecosystem matrix*/\n",
        "int readFile (char *filename, config_t *conf, object_t ***eco) {\n",
        "\tFILE *fp;\n",
        "\tunsigned int N;\n",
        "\tchar object_type[7];\n",
        "\tcoord_t p;\n",
        "\tobject_t  **matrix;\n",
        "\n",
        "\tfp = fopen(filename, \"r\");\n",
        "\tif (fp == NULL) {\n",
        "\t\tperror(filename);\n",
        "\t\texit(1);\n",
        "\t}\n",
        "\n",
        "\t/*TODO -- file checking*/\n",
        "\tfscanf(fp, \"%hu %hu %hu %u %u %u %u\\n\",&(conf->GEN_PROC_CONEJOS),\n",
        "\t\t\t\t\t\t\t\t\t\t&(conf->GEN_PROC_ZORROS),\n",
        "\t\t\t\t\t\t\t\t\t\t&(conf->GEN_COMIDA_ZORROS),\n",
        "\t\t\t\t\t\t\t\t\t\t&(conf->N_GEN),\n",
        "\t\t\t\t\t\t\t\t\t\t&(conf->L),\n",
        "\t\t\t\t\t\t\t\t\t\t&(conf->C),\n",
        "\t\t\t\t\t\t\t\t\t\t&N);\n",
        "\tconf->GEN = 0;\n",
        "\t\n",
        "\tmatrix = allocateMatrix(conf->L, conf->C);\n",
        "\n",
        "\tfor (int i = 0; i < N; i++) {\n",
        "\t\tfscanf(fp, \"%s %d %d\\n\", object_type, &(p.x), &(p.y));\n",
        "\t\tinsert_into_matrix(matrix, object_type, p);\n",
        "\t}\n",
        "\n",
        "\t*eco = matrix;\n",
        "\t\n",
        "\treturn 1;\n",
        "}"
      ],
      "metadata": {
        "colab": {
          "base_uri": "https://localhost:8080/"
        },
        "id": "vwbarjZ5dpNF",
        "outputId": "06d83e1b-9b9e-49d9-ed7a-7e28c65856c3"
      },
      "execution_count": null,
      "outputs": [
        {
          "output_type": "stream",
          "name": "stdout",
          "text": [
            "Overwriting fileHandler.c\n"
          ]
        }
      ]
    },
    {
      "cell_type": "code",
      "source": [
        "%%writefile rules.c\n",
        "\n",
        "#include \"headers/rules.h\"\n",
        "#include <time.h>\n",
        "\n",
        "//find an slot of type 'type'\n",
        "coord_t neighbour(object_t **eco, config_t conf, coord_t p, int type) {\n",
        "\tsrand(time(NULL));\n",
        "\tcoord_t possible[4];\n",
        "\tint possible_n = 0;\n",
        "\n",
        "\t//left\n",
        "\tif (p.y - 1 >= 0 && eco[p.x][p.y - 1].animal.type == type)\n",
        "\t\tpossible[possible_n++] = (coord_t){.x = p.x, .y = p.y - 1};\n",
        "\n",
        "\t//down\n",
        "\tif (p.x + 1 < conf.L && eco[p.x + 1][p.y].animal.type == type)\n",
        "\t\tpossible[possible_n++] = (coord_t){.x = p.x + 1, .y = p.y};\n",
        "\n",
        "\t//right\n",
        "\tif (p.y + 1 < conf.C && eco[p.x][p.y + 1].animal.type == type)\n",
        "\t\tpossible[possible_n++] = (coord_t){.x = p.x, .y = p.y + 1};\n",
        "\n",
        "\t//up\n",
        "\tif (p.x - 1 >= 0 && eco[p.x - 1][p.y].animal.type == type)\n",
        "\t\tpossible[possible_n++] = (coord_t){.x = p.x - 1, .y = p.y};\n",
        "\n",
        "\tif (possible_n > 0){\n",
        "\t\tif (possible_n > 1)\n",
        "\t\t\treturn possible[(conf.GEN + p.x +p.y) % possible_n];\t\t//choose one of the neighbours\n",
        "\t\telse\n",
        "\t\t\treturn possible[0];\n",
        "\t}\n",
        "\telse \n",
        "\t\treturn (coord_t){.x = -1, .y = -1};\n",
        "}\n",
        "\n",
        "/*******************************\n",
        "--------- Rabbit Rules ---------\n",
        "********************************/\n",
        "\n",
        "// Inserts a rabbit and resolve possible conflicts\n",
        "void rabbit_insert (object_t **eco, animal_t r, coord_t old, coord_t new) {\n",
        "\tint candidate_id;\n",
        "\n",
        "\tif (old.y + 1 == new.y)\n",
        "\t\tcandidate_id = LEFT;\n",
        "\telse if (old.x - 1 == new.x)\n",
        "\t\tcandidate_id = DOWN;\n",
        "\telse if (old.y - 1 == new.y)\n",
        "\t\tcandidate_id = RIGHT;\n",
        "\telse if (old.x + 1 == new.x)\n",
        "\t\tcandidate_id = UP;\n",
        "\telse if (old.x == new.x && old.y == new.y)\n",
        "\t\tcandidate_id = CENTER;\n",
        "\n",
        "\teco[new.x][new.y].candidates[candidate_id] = r;\n",
        "}\n",
        "\n",
        "// Make a move if a available slot is found and returns the new position\n",
        "int rabbit_move (object_t **eco, config_t conf, coord_t p) {\n",
        "\tcoord_t new = neighbour(eco, conf, p, EMPTY);\t\n",
        "\n",
        "\tif (new.x >= 0 && new.y >= 0){\n",
        "\t\tif (conf.GEN - eco[p.x][p.y].animal.gen_nascimento > conf.GEN_PROC_CONEJOS) {\t\t// Reproduction \n",
        "\t\t\trabbit_insert(eco, NEWANIMAL(RABBIT, conf.GEN, -1), p, p);\t\t\t\n",
        "\t\t\trabbit_insert(eco, NEWANIMAL(RABBIT, conf.GEN, -1), p, new);\n",
        "\t\t} \n",
        "\t\telse {\t\t\t\t\t\t\t\t\t\t\t\t\t\t\t\t// Move without reproducing \n",
        "\t\t\t//rabbit_insert(eco, eco[p.x][p.y].animal, p, new);\n",
        "\t\t\trabbit_insert(eco, NEWANIMAL(RABBIT, eco[p.x][p.y].animal.gen_nascimento, -1), p, new);\n",
        "\t\t}\n",
        "\t\treturn 1;\n",
        "\t} \t\t\t\t\t\t\t\t\t\t//No neighbours, returns false\n",
        "\treturn 0;\n",
        "}\n",
        "\n",
        "void rabbit_rules (object_t **eco, config_t conf, coord_t p) {\n",
        "\t// Movement \n",
        "\trabbit_move (eco, conf, p);\n",
        "\treturn;\n",
        "}\n",
        "\n",
        "\n",
        "/*******************************\n",
        "---------- Fox Rules -----------\n",
        "********************************/\n",
        "\n",
        "\n",
        "/*Insert the fox f into the next_eco in the position p, resolving conflicts if they ocour*/\n",
        "void fox_insert (object_t **eco, animal_t f, coord_t old, coord_t new) {\n",
        "\tint candidate_id;\n",
        "\n",
        "\tif (old.y + 1 == new.y)\n",
        "\t\tcandidate_id = UP;\n",
        "\telse if (old.x - 1 == new.x)\n",
        "\t\tcandidate_id = RIGHT;\n",
        "\telse if (old.y - 1 == new.y)\n",
        "\t\tcandidate_id = DOWN;\n",
        "\telse if (old.x + 1 == new.x)\n",
        "\t\tcandidate_id = LEFT;\n",
        "\telse if (old.x == new.x && old.y == new.y)\n",
        "\t\tcandidate_id = CENTER;\n",
        "\n",
        "\teco[new.x][new.y].candidates[candidate_id] = f;\n",
        "}\n",
        "\n",
        "int predation(object_t **eco, config_t conf, coord_t p) {\n",
        "\tcoord_t new = neighbour(eco, conf, p, RABBIT);\n",
        "\n",
        "\tif (new.x >= 0 && new.y >= 0){\n",
        "\t\tif (conf.GEN - eco[p.x][p.y].animal.gen_nascimento > conf.GEN_PROC_ZORROS) {\t\t/* Reproduction */\n",
        "\t\t\tfox_insert(eco, NEWANIMAL(FOX, conf.GEN, conf.GEN), p, p);\n",
        "\t\t\tfox_insert(eco, NEWANIMAL(FOX, conf.GEN, conf.GEN), p, new);\n",
        "\t\t} \n",
        "\t\telse {\t\t\t\t\t\t\t\t\t\t\t\t\t\t\t\t/* Move without reproducing */\n",
        "\t\t\tfox_insert(eco, NEWANIMAL(FOX, eco[p.x][p.y].animal.gen_nascimento, conf.GEN), p, new);\n",
        "\t\t}\n",
        "\t\treturn 1;\n",
        "\t}\n",
        "\treturn 0;\n",
        "}\n",
        "\n",
        "/*TODO: fox predation, fox move, fox death*/\n",
        "\n",
        "int fox_move (object_t **eco, config_t conf, coord_t p) {\n",
        "\tcoord_t new = neighbour(eco, conf, p, EMPTY);\n",
        "\n",
        "\tif (new.x >= 0 && new.y >= 0){\n",
        "\t\tif (conf.GEN - eco[p.x][p.y].animal.gen_nascimento > conf.GEN_PROC_ZORROS) {\t\t/* Reproduction */\n",
        "\t\t\tfox_insert(eco, NEWANIMAL(FOX, conf.GEN, conf.GEN), p, p);\n",
        "\t\t\tfox_insert(eco, NEWANIMAL(FOX, conf.GEN, conf.GEN), p, new);\n",
        "\t\t} else {\t\t\t\t\t\t\t\t\t\t\t\t\t\t\t\t/* Move without reproducing */\n",
        "\t\t\tfox_insert(eco, eco[p.x][p.y].animal, p, new);\n",
        "\t\t}\n",
        "\t\treturn 1;\n",
        "\t}\n",
        "\treturn 0;\n",
        "}\n",
        "\n",
        "void fox_rules (object_t **eco, config_t conf, coord_t p) {\n",
        "\t/* Movement */ \n",
        "\tif (!predation(eco, conf, p)) {\n",
        "\t\tif(conf.GEN - eco[p.x][p.y].animal.gen_comida >= conf.GEN_COMIDA_ZORROS){\t\t//death\n",
        "\t\t\t//clear_position(&(next_eco[p.x][p.y]));\n",
        "\t\t}\n",
        "\t\telse\n",
        "\t\t\tfox_move(eco, conf, p);\n",
        "\t}\n",
        "}\n",
        "\n",
        "animal_t choose_rabbit (object_t object) {\n",
        "\tanimal_t old_animal = object.animal;\n",
        "\n",
        "\tanimal_t *animals = object.candidates;\n",
        "\tanimal_t animal;\n",
        "\n",
        "\tint success = 0;\n",
        "\tfor (int i = 0; i < 5; i++){\n",
        "\t\tif (animals[i].type != RABBIT)\n",
        "\t\t\tcontinue;\n",
        "\n",
        "\t\tsuccess += 1;\n",
        "\t\tif (success == 1)\n",
        "\t\t\tanimal = animals[i];\n",
        "\n",
        "\t\tif (animal.gen_nascimento < animals[i].gen_nascimento)\n",
        "\t\t\tcontinue;\n",
        "\t\telse\n",
        "\t\t\tanimal = animals[i];\n",
        "\t\tanimals[i] = NEWANIMAL(EMPTY, -1, -1);\n",
        "\n",
        "\t}\n",
        "\tif (success)\n",
        "\t\treturn animal;\n",
        "\telse if (object.animal.type != RABBIT)\n",
        "\t\treturn old_animal;\n",
        "\telse \n",
        "\t\treturn NEWANIMAL(EMPTY, -1, -1);\n",
        "}\n",
        "\n",
        "animal_t choose_fox (object_t object) {\n",
        "\tanimal_t old_animal = object.animal;\n",
        "\n",
        "\tanimal_t *animals = object.candidates;\n",
        "\tanimal_t animal;\n",
        "\n",
        "\tint success = 0;\n",
        "\tfor (int i = 0; i < 5; i++){\n",
        "\t\tif (animals[i].type != FOX)\n",
        "\t\t\tcontinue;\n",
        "\t\t\n",
        "\t\tsuccess += 1;\n",
        "\t\tif (success == 1)\n",
        "\t\t\tanimal = animals[i];\n",
        "\n",
        "\t\tif (animal.gen_nascimento < animals[i].gen_nascimento){\n",
        "\t\t\tcontinue;\n",
        "\t\t}\n",
        "\t\telse if (animal.gen_nascimento > animals[i].gen_nascimento){\n",
        "\t\t\tanimal = animals[i];\n",
        "\t\t} \n",
        "\t\telse {\n",
        "\t\t\tif (animal.gen_comida > animals[i].gen_comida){\n",
        "\t\t\t\tcontinue;\n",
        "\t\t\t}\n",
        "\t\t\telse {\n",
        "\t\t\t\tanimal = animals[i];\n",
        "\t\t\t}\n",
        "\t\t}\n",
        "\t\tanimals[i] = NEWANIMAL(EMPTY, -1, -1);\n",
        "\t}\n",
        "\tif (success)\n",
        "\t\treturn animal;\n",
        "\telse if (object.animal.type != FOX)\n",
        "\t\treturn old_animal;\n",
        "\telse \n",
        "\t\treturn NEWANIMAL(EMPTY, -1, -1);\n",
        "}"
      ],
      "metadata": {
        "colab": {
          "base_uri": "https://localhost:8080/"
        },
        "id": "W4qJhbDFdt2k",
        "outputId": "7e18bf42-2014-4701-ffc0-f7e605797344"
      },
      "execution_count": null,
      "outputs": [
        {
          "output_type": "stream",
          "name": "stdout",
          "text": [
            "Overwriting rules.c\n"
          ]
        }
      ]
    },
    {
      "cell_type": "code",
      "source": [
        "%%writefile types.c\n",
        "\n",
        "#include \"headers/types_t.h\"\n",
        "\n",
        "object_t **allocateMatrix (int L, int C) {\n",
        "\tobject_t **matrix = (object_t**) malloc(L*sizeof(object_t*));\n",
        "\tfor (int i = 0; i < L; i++) {\n",
        "\t\tmatrix[i] = (object_t*) calloc(C,sizeof(object_t));\n",
        "\t\tfor (int j = 0; j < C; j++) {\n",
        "\t\t\tmatrix[i][j].candidates = malloc(5*sizeof(animal_t));\n",
        "\t\t}\n",
        "\t}\n",
        "\treturn matrix;\n",
        "}\n",
        "\n",
        "void printMatrix (object_t **eco, int X, int Y, config_t conf) {\n",
        "\tfor (int i = 0; i < X; i++){\n",
        "\t\tprintf(\"|\");\n",
        "\t\tfor (int j = 0; j < Y; j++) {\n",
        "\t\t\tif (eco[i][j].animal.type == EMPTY)\n",
        "\t\t\t\tprintf(\"   \");\n",
        "\t\t\telse if (eco[i][j].animal.type == ROCK)\n",
        "\t\t\t\tprintf(\" * \");\n",
        "\t\t\telse if (eco[i][j].animal.type == RABBIT)\n",
        "\t\t\t\tprintf(_GREEN\"R%-2d\"_RESET, conf.GEN - eco[i][j].animal.gen_nascimento);\n",
        "\t\t\telse if (eco[i][j].animal.type == FOX)\n",
        "\t\t\t\tprintf(_RED\"F%d%d\"_RESET, conf.GEN - eco[i][j].animal.gen_nascimento, conf.GEN - eco[i][j].animal.gen_comida);\n",
        "\t\t\telse\n",
        "\t\t\t\tprintf(\"?\");\n",
        "\t\t\tprintf(\"|\");\n",
        "\t\t}\n",
        "\t\tprintf(\"\\n\");\n",
        "\t}\n",
        "\tprintf(\"---------------------\\n\");\n",
        "}\n",
        "\n",
        "int insert_into_matrix (object_t **matrix, char* object_type, coord_t p) {\n",
        "\tif (strcmp(object_type, \"CONEJO\") == 0) {\n",
        "\t\tmatrix[p.x][p.y].animal = NEWANIMAL(RABBIT, 0, -1);\n",
        "\t}\n",
        "\telse if (strcmp(object_type, \"ZORRO\") == 0) {\n",
        "\t\tmatrix[p.x][p.y].animal = NEWANIMAL(FOX, 0, 0);\n",
        "\t}\n",
        "\telse if (strcmp(object_type, \"ROCA\") == 0) {\n",
        "\t\tmatrix[p.x][p.y].animal = NEWANIMAL(ROCK, -1, -1);\n",
        "\t}\n",
        "\telse\n",
        "\t\tmatrix[p.x][p.y].animal = NEWANIMAL(EMPTY, -1, -1);\n",
        "\treturn 1;\n",
        "}"
      ],
      "metadata": {
        "colab": {
          "base_uri": "https://localhost:8080/"
        },
        "id": "RVm5jQpjd2eF",
        "outputId": "bc096569-f906-4a80-8ed8-7d2581352edd"
      },
      "execution_count": null,
      "outputs": [
        {
          "output_type": "stream",
          "name": "stdout",
          "text": [
            "Overwriting types.c\n"
          ]
        }
      ]
    },
    {
      "cell_type": "code",
      "source": [
        "%%writefile config.ini\n",
        "\n",
        "2 4 3 6 5 5 9\n",
        "ROCA 0 0\n",
        "CONEJO 0 2\n",
        "ZORRO 0 4\n",
        "ZORRO 1 0\n",
        "ZORRO 1 4\n",
        "ROCA 2 4\n",
        "CONEJO 3 0\n",
        "CONEJO 4 0\n",
        "ZORRO 4 4"
      ],
      "metadata": {
        "colab": {
          "base_uri": "https://localhost:8080/"
        },
        "id": "uyieMWWYoHiB",
        "outputId": "e3e05ac9-c30f-4d7f-c6a0-130eac26a2e1"
      },
      "execution_count": null,
      "outputs": [
        {
          "output_type": "stream",
          "name": "stdout",
          "text": [
            "Overwriting config.ini\n"
          ]
        }
      ]
    },
    {
      "cell_type": "code",
      "source": [
        "%%writefile main.c\n",
        "\n",
        "#include <stdio.h>\n",
        "#include <stdlib.h>\n",
        "#include <string.h>\n",
        "#include <unistd.h>\n",
        "#include <omp.h>\n",
        "#include \"headers/fileHandler.h\"\n",
        "#include \"headers/config_t.h\"\n",
        "#include \"headers/types_t.h\"\n",
        "#include \"headers/rules.h\"\n",
        "#include \"headers/coord_t.h\"\n",
        "#include \"fileHandler.c\"\n",
        "#include \"rules.c\"\n",
        "#include \"types.c\"\n",
        "\n",
        "void printResult (object_t **eco, config_t conf);\n",
        "void destroyLock (object_t **eco, config_t conf);\n",
        "\n",
        "int main (int argc, char **argv) {\n",
        "\tif (argc < 2) {\n",
        "\t\tprintf(\"Usage:\\n%s <config_file>\\n\\n\", argv[0]);\n",
        "\t\texit(1);\n",
        "\t}\n",
        "\n",
        "\tconfig_t conf;\n",
        "\n",
        "\tobject_t **eco;\n",
        "\tcoord_t p;\n",
        "\n",
        "\tprintf(\"Leyendo archivo\");\n",
        "\treadFile(argv[1], &conf, &eco);\n",
        "\n",
        "\t#ifdef STEP\n",
        "\t\tsystem(\"clear\");\n",
        "\t\tprintf(\"-------GEN:%2d-------\\n\", 0);\n",
        "\t\tprintMatrix (eco, conf.L, conf.C, conf);\n",
        "\t#endif\n",
        "\n",
        "\tfor (unsigned int t = 1; t <= conf.N_GEN; t++){\n",
        "\t\tconf.GEN++;\n",
        "\n",
        "\t\t#ifdef STEP\n",
        "\t\tgetchar();\n",
        "\t\tsystem(\"clear\");\n",
        "\t\tprintf(\"-------GEN:%2d-------\\n\", t);\n",
        "\t\t#endif\n",
        "\n",
        "\t\t// REGRAS DO CONEJO\n",
        "\t\tfor (unsigned int i = 0; i < conf.L; i++){\n",
        "\t\t\tfor (unsigned int j = 0; j < conf.C; j++){\n",
        "\t\t\t\tif (eco[i][j].animal.type == RABBIT){\n",
        "\t\t\t\t\tp = (coord_t){.x = i, .y = j};\n",
        "\t\t\t\t\trabbit_rules (eco, conf, p);\n",
        "\t\t\t\t}\t\n",
        "\t\t\t}\n",
        "\t\t}\n",
        "\n",
        "\t\t//CONFLITOS DO CONEJO\n",
        "\t\t#ifdef PARALELO\n",
        "\t\t#pragma omp parallel for   //paralelo\n",
        "\t\t#endif\n",
        "\t\tfor (unsigned int i = 0; i < conf.L; i++){\n",
        "\t\t\tfor (unsigned int j = 0; j < conf.C; j++){\n",
        "\t\t\t\teco[i][j].animal = choose_rabbit(eco[i][j]);\n",
        "\t\t\t}\n",
        "\t\t}\n",
        "\n",
        "\t\t#ifdef STEP2\n",
        "\t\t\tprintMatrix (eco, conf.L, conf.C, conf);\n",
        "\t\t\tgetchar();\n",
        "\t\t\tsystem(\"clear\");\n",
        "\t\t\tprintf(\"-------GEN:%2d-------\\n\", t);\n",
        "\t\t#endif\n",
        "\n",
        "\t\t//REGRAS DA ZORRO\n",
        "\t\tfor (unsigned int i = 0; i < conf.L; i++){\n",
        "\t\t\tfor (unsigned int j = 0; j < conf.C; j++){\n",
        "\t\t\t\tif (eco[i][j].animal.type == FOX){\n",
        "\t\t\t\t\tp = (coord_t){.x = i, .y = j};\n",
        "\t\t\t\t\tfox_rules (eco, conf, p);\n",
        "\t\t\t\t}\t\n",
        "\t\t\t}\n",
        "\t\t}\n",
        "\n",
        "\t\t//CONFLITOS DA ZORRO\n",
        "\t\t#ifdef PARALELO\n",
        "\t\t#pragma omp parallel for    //paralelo\n",
        "\t\t#endif\n",
        "\t\tfor (unsigned int i = 0; i < conf.L; i++){\n",
        "\t\t\tfor (unsigned int j = 0; j < conf.C; j++){\n",
        "\t\t\t\teco[i][j].animal = choose_fox(eco[i][j]);\n",
        "\t\t\t}\n",
        "\t\t}\n",
        "\n",
        "\t\tprintf(\"\\rGeneración %d/%d\", t, conf.N_GEN);\n",
        "\t\tfflush(stdout);\n",
        "\t\t#ifdef STEP\n",
        "\t\t\tprintMatrix (eco, conf.L, conf.C, conf);\n",
        "\t\t#endif\n",
        "\t}\n",
        "\n",
        "\t//printResult(eco, conf);\n",
        "\treturn 0;\n",
        "}\n",
        "\n",
        "\n",
        "void printResult (object_t **eco, config_t conf) {\n",
        "\tint N = 0;\n",
        "\tfor (unsigned int i = 0; i < conf.L; i++)\n",
        "\t\tfor (unsigned int j = 0; j < conf.C; j++)\n",
        "\t\t\tif (eco[i][j].animal.type != EMPTY){\n",
        "\t\t\t\tN++;\n",
        "\t\t\t}\n",
        "\n",
        "\tprintf(\"%u %u %u 0 %u %u %u\\n\",conf.GEN_PROC_CONEJOS,\n",
        "\t\t\t\t\t\t\t\t\tconf.GEN_PROC_ZORROS,\n",
        "\t\t\t\t\t\t\t\t\tconf.GEN_COMIDA_ZORROS,\n",
        "\t\t\t\t\t\t\t\t\tconf.L,\n",
        "\t\t\t\t\t\t\t\t\tconf.C,\n",
        "\t\t\t\t\t\t\t\t\tN);\n",
        "\tfor (unsigned int i = 0; i < conf.L; i++)\n",
        "\t\tfor (unsigned int j = 0; j < conf.C; j++)\n",
        "\t\t\tif (eco[i][j].animal.type != EMPTY){\n",
        "\t\t\t\tif (eco[i][j].animal.type == FOX) {\n",
        "\t\t\t\t\tprintf(\"ZORRO %d %d\\n\", i, j);\n",
        "\t\t\t\t}\n",
        "\t\t\t\telse if (eco[i][j].animal.type == RABBIT) {\n",
        "\t\t\t\t\tprintf(\"CONEJO %d %d\\n\", i, j);\n",
        "\t\t\t\t}\n",
        "\t\t\t\telse if (eco[i][j].animal.type == ROCK) {\n",
        "\t\t\t\t\tprintf(\"ROCA %d %d\\n\", i, j);\n",
        "\t\t\t\t}\n",
        "\t\t\t}\n",
        "}"
      ],
      "metadata": {
        "colab": {
          "base_uri": "https://localhost:8080/"
        },
        "id": "BI4dMd-CeAXP",
        "outputId": "2366feda-4bd8-4ecb-ebf2-604bee771036"
      },
      "execution_count": null,
      "outputs": [
        {
          "output_type": "stream",
          "name": "stdout",
          "text": [
            "Overwriting main.c\n"
          ]
        }
      ]
    },
    {
      "cell_type": "code",
      "source": [
        "!gcc -Wall -g -o prey-predator -fopenmp main.c\n",
        "!./prey-predator config.ini"
      ],
      "metadata": {
        "id": "MVDBwg6yRvS9",
        "colab": {
          "base_uri": "https://localhost:8080/"
        },
        "outputId": "91838b03-5c58-4f67-aa33-3c3a4f8dfcc8"
      },
      "execution_count": null,
      "outputs": [
        {
          "output_type": "stream",
          "name": "stdout",
          "text": [
            "Leyendo archivo\rGeneración 1/6\rGeneración 2/6\rGeneración 3/6\rGeneración 4/6\rGeneración 5/6\rGeneración 6/6"
          ]
        }
      ]
    }
  ]
}